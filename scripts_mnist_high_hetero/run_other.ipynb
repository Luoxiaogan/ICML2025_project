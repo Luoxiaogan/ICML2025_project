{
 "cells": [
  {
   "cell_type": "code",
   "execution_count": 1,
   "metadata": {},
   "outputs": [
    {
     "name": "stdout",
     "output_type": "stream",
     "text": [
      "A的第二大特征值: 0.5230771155905988\n",
      "A的beta: 0.6993711525725889\n",
      "A的spectral gap: 0.30062884742741114\n",
      "A的kappa: 2.0000000000000044\n",
      "S_A是: 45.05614667517945 \n",
      "\n",
      "(16, 16)\n",
      "optimizer初始化成功!\n"
     ]
    },
    {
     "name": "stderr",
     "output_type": "stream",
     "text": [
      "Training Progress:   0%|          | 0/400 [00:00<?, ?it/s]/root/ICML2025_project/utils/train_utils.py:210: FutureWarning: `torch.cuda.amp.autocast(args...)` is deprecated. Please use `torch.amp.autocast('cuda', args...)` instead.\n",
      "  with autocast(enabled=use_amp):\n",
      "Training Progress: 100%|██████████| 400/400 [07:18<00:00,  1.10s/it, epoch=400, test_accuracy=93.3600%, test_loss=0.2279, train_loss=0.0540]\n"
     ]
    },
    {
     "data": {
      "text/plain": [
       "(     epoch  train_loss(total)  test_loss(average)  test_accuracy(average)\n",
       " 0        1           0.557529            2.297086                  0.2332\n",
       " 1        2           0.555900            2.291234                  0.3084\n",
       " 2        3           0.554212            2.285285                  0.3467\n",
       " 3        4           0.552622            2.279246                  0.3630\n",
       " 4        5           0.550809            2.272978                  0.3747\n",
       " ..     ...                ...                 ...                     ...\n",
       " 395    396           0.052789            0.229756                  0.9330\n",
       " 396    397           0.053174            0.228542                  0.9342\n",
       " 397    398           0.055360            0.228370                  0.9335\n",
       " 398    399           0.053794            0.228075                  0.9336\n",
       " 399    400           0.054013            0.227893                  0.9336\n",
       " \n",
       " [400 rows x 4 columns],\n",
       " [<torch.utils.data.dataloader.DataLoader at 0x7f30a5438110>,\n",
       "  <torch.utils.data.dataloader.DataLoader at 0x7f30a5540ef0>,\n",
       "  <torch.utils.data.dataloader.DataLoader at 0x7f30a576b6e0>,\n",
       "  <torch.utils.data.dataloader.DataLoader at 0x7f30a53d7920>,\n",
       "  <torch.utils.data.dataloader.DataLoader at 0x7f30a5e6d970>,\n",
       "  <torch.utils.data.dataloader.DataLoader at 0x7f30a586b5f0>,\n",
       "  <torch.utils.data.dataloader.DataLoader at 0x7f30a566b440>,\n",
       "  <torch.utils.data.dataloader.DataLoader at 0x7f30a5ab9d90>,\n",
       "  <torch.utils.data.dataloader.DataLoader at 0x7f30a5ab99d0>,\n",
       "  <torch.utils.data.dataloader.DataLoader at 0x7f30a5438fb0>,\n",
       "  <torch.utils.data.dataloader.DataLoader at 0x7f30a5439040>,\n",
       "  <torch.utils.data.dataloader.DataLoader at 0x7f30a54390d0>,\n",
       "  <torch.utils.data.dataloader.DataLoader at 0x7f30a5439160>,\n",
       "  <torch.utils.data.dataloader.DataLoader at 0x7f30a54391f0>,\n",
       "  <torch.utils.data.dataloader.DataLoader at 0x7f30a5439280>,\n",
       "  <torch.utils.data.dataloader.DataLoader at 0x7f30a5439310>])"
      ]
     },
     "execution_count": 1,
     "metadata": {},
     "output_type": "execute_result"
    }
   ],
   "source": [
    "# scripts/run_training.py\n",
    "\n",
    "import sys\n",
    "import os\n",
    "\n",
    "# 将项目根目录添加到 sys.path\n",
    "current_dir = os.getcwd()\n",
    "project_root = os.path.abspath(os.path.join(current_dir, '..'))\n",
    "if project_root not in sys.path:\n",
    "    sys.path.insert(0, project_root)\n",
    "\n",
    "import sys\n",
    "import os\n",
    "import numpy as np\n",
    "import pandas as pd\n",
    "\n",
    "from training import train, train_per_iteration, train_high_hetero\n",
    "import torch\n",
    "from utils import ring1, show_row , ring3, ring2, ring4\n",
    "from network_utils import get_matrixs_from_exp_graph\n",
    "\n",
    "device = torch.device('cuda' if torch.cuda.is_available() else 'cpu')\n",
    "n=16\n",
    "A,B = ring1(n=n)\n",
    "k = 10\n",
    "A = np.linalg.matrix_power(A, k)\n",
    "show_row(A)\n",
    "print(A.shape)\n",
    "\n",
    "train_high_hetero(\n",
    "    algorithm=\"PullDiag_GT\",\n",
    "    lr=1e-2,\n",
    "    A=A,\n",
    "    B=B,# 实际没用用到\n",
    "    dataset_name=\"MNIST\",\n",
    "    batch_size=128,\n",
    "    num_epochs=400,\n",
    "    remark=f\"MG={k}, RING 16, HIGH HETERO\",\n",
    ")"
   ]
  }
 ],
 "metadata": {
  "kernelspec": {
   "display_name": "myconda",
   "language": "python",
   "name": "python3"
  },
  "language_info": {
   "codemirror_mode": {
    "name": "ipython",
    "version": 3
   },
   "file_extension": ".py",
   "mimetype": "text/x-python",
   "name": "python",
   "nbconvert_exporter": "python",
   "pygments_lexer": "ipython3",
   "version": "3.12.4"
  }
 },
 "nbformat": 4,
 "nbformat_minor": 2
}
