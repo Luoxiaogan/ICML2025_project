{
 "cells": [
  {
   "cell_type": "code",
   "execution_count": 1,
   "metadata": {},
   "outputs": [
    {
     "name": "stdout",
     "output_type": "stream",
     "text": [
      "A的第二大特征值: 0.7232407037706051\n",
      "A的beta: 0.8859706656048183\n",
      "A的spectral gap: 0.1140293343951817\n",
      "A的kappa: 2.000000000000005\n",
      "S_A是: 118.7867798783883 \n",
      "\n",
      "(16, 16)\n",
      "optimizer初始化成功!\n"
     ]
    },
    {
     "name": "stderr",
     "output_type": "stream",
     "text": [
      "Training Progress:   0%|          | 0/400 [00:00<?, ?it/s]/root/ICML2025_project/utils/train_utils.py:210: FutureWarning: `torch.cuda.amp.autocast(args...)` is deprecated. Please use `torch.amp.autocast('cuda', args...)` instead.\n",
      "  with autocast(enabled=use_amp):\n",
      "Training Progress: 100%|██████████| 400/400 [07:25<00:00,  1.11s/it, epoch=400, test_accuracy=91.8200%, test_loss=0.2833, train_loss=0.0700]\n"
     ]
    },
    {
     "data": {
      "text/plain": [
       "(     epoch  train_loss(total)  test_loss(average)  test_accuracy(average)\n",
       " 0        1           0.558200            2.299621                  0.0999\n",
       " 1        2           0.557015            2.296509                  0.1048\n",
       " 2        3           0.556092            2.293393                  0.1227\n",
       " 3        4           0.555271            2.290275                  0.1603\n",
       " 4        5           0.554400            2.287132                  0.2042\n",
       " ..     ...                ...                 ...                     ...\n",
       " 395    396           0.068763            0.284897                  0.9174\n",
       " 396    397           0.068870            0.284154                  0.9183\n",
       " 397    398           0.071902            0.283810                  0.9184\n",
       " 398    399           0.069980            0.283430                  0.9183\n",
       " 399    400           0.069952            0.283256                  0.9182\n",
       " \n",
       " [400 rows x 4 columns],\n",
       " [<torch.utils.data.dataloader.DataLoader at 0x7fc2e7118cb0>,\n",
       "  <torch.utils.data.dataloader.DataLoader at 0x7fc2e718cb00>,\n",
       "  <torch.utils.data.dataloader.DataLoader at 0x7fc2e7923770>,\n",
       "  <torch.utils.data.dataloader.DataLoader at 0x7fc2e70ca360>,\n",
       "  <torch.utils.data.dataloader.DataLoader at 0x7fc2e761b050>,\n",
       "  <torch.utils.data.dataloader.DataLoader at 0x7fc2e7394290>,\n",
       "  <torch.utils.data.dataloader.DataLoader at 0x7fc2e711a8d0>,\n",
       "  <torch.utils.data.dataloader.DataLoader at 0x7fc2e711a960>,\n",
       "  <torch.utils.data.dataloader.DataLoader at 0x7fc2e711a9f0>,\n",
       "  <torch.utils.data.dataloader.DataLoader at 0x7fc2e711aa80>,\n",
       "  <torch.utils.data.dataloader.DataLoader at 0x7fc2e711ab10>,\n",
       "  <torch.utils.data.dataloader.DataLoader at 0x7fc2e711aba0>,\n",
       "  <torch.utils.data.dataloader.DataLoader at 0x7fc2e711ac30>,\n",
       "  <torch.utils.data.dataloader.DataLoader at 0x7fc2e711acc0>,\n",
       "  <torch.utils.data.dataloader.DataLoader at 0x7fc2e711ad50>,\n",
       "  <torch.utils.data.dataloader.DataLoader at 0x7fc2e711ade0>])"
      ]
     },
     "execution_count": 1,
     "metadata": {},
     "output_type": "execute_result"
    }
   ],
   "source": [
    "# scripts/run_training.py\n",
    "\n",
    "import sys\n",
    "import os\n",
    "\n",
    "# 将项目根目录添加到 sys.path\n",
    "current_dir = os.getcwd()\n",
    "project_root = os.path.abspath(os.path.join(current_dir, '..'))\n",
    "if project_root not in sys.path:\n",
    "    sys.path.insert(0, project_root)\n",
    "\n",
    "import sys\n",
    "import os\n",
    "import numpy as np\n",
    "import pandas as pd\n",
    "\n",
    "from training import train, train_per_iteration, train_high_hetero\n",
    "import torch\n",
    "from utils import ring1, show_row , ring3, ring2, ring4\n",
    "from network_utils import get_matrixs_from_exp_graph\n",
    "\n",
    "device = torch.device('cuda' if torch.cuda.is_available() else 'cpu')\n",
    "n=16\n",
    "A,B = ring1(n=n)\n",
    "k = 5\n",
    "A = np.linalg.matrix_power(A, k)\n",
    "show_row(A)\n",
    "print(A.shape)\n",
    "\n",
    "train_high_hetero(\n",
    "    algorithm=\"PullDiag_GT\",\n",
    "    lr=6e-3,\n",
    "    A=A,\n",
    "    B=B,# 实际没用用到\n",
    "    dataset_name=\"MNIST\",\n",
    "    batch_size=128,\n",
    "    num_epochs=400,\n",
    "    remark=f\"MG={k}, RING 16, HIGH HETERO\",\n",
    ")"
   ]
  }
 ],
 "metadata": {
  "kernelspec": {
   "display_name": "myconda",
   "language": "python",
   "name": "python3"
  },
  "language_info": {
   "codemirror_mode": {
    "name": "ipython",
    "version": 3
   },
   "file_extension": ".py",
   "mimetype": "text/x-python",
   "name": "python",
   "nbconvert_exporter": "python",
   "pygments_lexer": "ipython3",
   "version": "3.12.4"
  }
 },
 "nbformat": 4,
 "nbformat_minor": 2
}
