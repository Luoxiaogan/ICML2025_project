{
 "cells": [
  {
   "cell_type": "code",
   "execution_count": 1,
   "metadata": {},
   "outputs": [],
   "source": [
    "import sys\n",
    "import os\n",
    "import numpy as np\n",
    "import pandas as pd\n",
    "\n",
    "# 将项目根目录添加到 sys.path\n",
    "#current_dir = os.path.dirname(os.path.abspath(__file__))\n",
    "current_dir = os.getcwd()\n",
    "project_root = os.path.abspath(os.path.join(current_dir, '..'))\n",
    "if project_root not in sys.path:\n",
    "    sys.path.insert(0, project_root)\n",
    "\n",
    "from training import train, train_per_iteration\n",
    "import torch\n",
    "from utils import ring1, show_row, Row"
   ]
  },
  {
   "cell_type": "code",
   "execution_count": 4,
   "metadata": {},
   "outputs": [
    {
     "name": "stdout",
     "output_type": "stream",
     "text": [
      "A的第二大特征值: 1.0\n",
      "A的beta: 1.75541673428835e-16\n",
      "A的spectral gap: 0.9999999999999998\n",
      "A的kappa: 1.0000000000000009\n",
      "S_A是: 8.000000000000009 \n",
      "\n",
      "(16, 16)\n"
     ]
    }
   ],
   "source": [
    "n=16\n",
    "A =np.full((n,n),1/n)\n",
    "k = 1\n",
    "A = np.linalg.matrix_power(A, k)\n",
    "show_row(A)\n",
    "print(A.shape)"
   ]
  },
  {
   "cell_type": "code",
   "execution_count": null,
   "metadata": {},
   "outputs": [],
   "source": [
    "train_per_iteration(\n",
    "    algorithm=\"PullDiag_GT\",\n",
    "    lr=5e-2,\n",
    "    A=A,\n",
    "    dataset_name=\"CIFAR10\",\n",
    "    batch_size=128,\n",
    "    num_epochs=10,\n",
    "    remark=f\"MG={k}, FULL图\",\n",
    ")"
   ]
  }
 ],
 "metadata": {
  "kernelspec": {
   "display_name": "base",
   "language": "python",
   "name": "python3"
  },
  "language_info": {
   "codemirror_mode": {
    "name": "ipython",
    "version": 3
   },
   "file_extension": ".py",
   "mimetype": "text/x-python",
   "name": "python",
   "nbconvert_exporter": "python",
   "pygments_lexer": "ipython3",
   "version": "3.12.3"
  }
 },
 "nbformat": 4,
 "nbformat_minor": 2
}
